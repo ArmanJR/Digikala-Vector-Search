{
 "cells": [
  {
   "metadata": {},
   "cell_type": "markdown",
   "source": "## Env Variables"
  },
  {
   "metadata": {},
   "cell_type": "code",
   "source": [
    "ELASTIC_ENDPOINT = \"\"\n",
    "ELASTIC_USERNAME = \"elastic\"\n",
    "ELASTIC_PASSWORD = \"\"\n",
    "ELASTIC_INDEX = \"dk_semantic_search\"\n",
    "\n",
    "DIGIKALA_DATASET_PATH = \"data/dk.csv\"\n",
    "CUSTOM_DATASET_PATH = \"data/custom.csv\"\n",
    "SAMPLE_COUNT = 1000\n",
    "RANDOM_STATE = 42"
   ],
   "outputs": [],
   "execution_count": null
  },
  {
   "cell_type": "code",
   "metadata": {},
   "source": [
    "from elasticsearch import Elasticsearch"
   ],
   "outputs": [],
   "execution_count": null
  },
  {
   "cell_type": "code",
   "metadata": {},
   "source": [
    "es = Elasticsearch(\n",
    "    ELASTIC_ENDPOINT,\n",
    "    basic_auth=(ELASTIC_USERNAME,ELASTIC_PASSWORD),\n",
    ")\n",
    "es.ping()"
   ],
   "outputs": [],
   "execution_count": null
  },
  {
   "cell_type": "markdown",
   "metadata": {},
   "source": [
    "## Prepare the data"
   ]
  },
  {
   "cell_type": "code",
   "metadata": {},
   "source": [
    "import pandas as pd\n",
    "\n",
    "df_all = pd.read_csv(DIGIKALA_DATASET_PATH)\n",
    "df_all.shape"
   ],
   "outputs": [],
   "execution_count": null
  },
  {
   "metadata": {},
   "cell_type": "code",
   "source": [
    "df = df_all.sample(n=SAMPLE_COUNT, random_state=RANDOM_STATE)\n",
    "del df_all\n",
    "df.head()"
   ],
   "outputs": [],
   "execution_count": null
  },
  {
   "cell_type": "code",
   "metadata": {},
   "source": [
    "df.isna().value_counts()"
   ],
   "outputs": [],
   "execution_count": null
  },
  {
   "cell_type": "code",
   "metadata": {},
   "source": [
    "df.fillna(\"None\", inplace=True)"
   ],
   "outputs": [],
   "execution_count": null
  },
  {
   "metadata": {},
   "cell_type": "code",
   "source": [
    "custom_csv = pd.read_csv(CUSTOM_DATASET_PATH)\n",
    "custom_csv.head()"
   ],
   "outputs": [],
   "execution_count": null
  },
  {
   "metadata": {},
   "cell_type": "code",
   "source": [
    "df = pd.concat([df, custom_csv], ignore_index=True)\n",
    "df.head()"
   ],
   "outputs": [],
   "execution_count": null
  },
  {
   "metadata": {},
   "cell_type": "code",
   "source": "df.tail()",
   "outputs": [],
   "execution_count": null
  },
  {
   "cell_type": "markdown",
   "metadata": {},
   "source": "## Convert the title to Vector"
  },
  {
   "cell_type": "code",
   "metadata": {},
   "source": [
    "from sentence_transformers import SentenceTransformer\n",
    "model = SentenceTransformer('intfloat/multilingual-e5-large')"
   ],
   "outputs": [],
   "execution_count": null
  },
  {
   "cell_type": "code",
   "metadata": {},
   "source": [
    "df[\"titleVector\"] = df[\"title_fa\"].apply(lambda x: model.encode(x))\n",
    "df.head()"
   ],
   "outputs": [],
   "execution_count": null
  },
  {
   "metadata": {},
   "cell_type": "code",
   "source": "df.columns",
   "outputs": [],
   "execution_count": null
  },
  {
   "metadata": {},
   "cell_type": "code",
   "source": "df.to_csv(\"data/dk_small.csv\", index=False)",
   "outputs": [],
   "execution_count": null
  },
  {
   "cell_type": "markdown",
   "metadata": {},
   "source": "## Create new index in ElasticSearch"
  },
  {
   "cell_type": "code",
   "metadata": {},
   "source": [
    "from indexMapping import indexMapping\n",
    "\n",
    "es.indices.create(index=ELASTIC_INDEX, mappings=indexMapping)"
   ],
   "outputs": [],
   "execution_count": null
  },
  {
   "cell_type": "markdown",
   "metadata": {},
   "source": [
    "## Ingest the data into index"
   ]
  },
  {
   "cell_type": "code",
   "metadata": {},
   "source": [
    "record_list = df.to_dict(\"records\")"
   ],
   "outputs": [],
   "execution_count": null
  },
  {
   "cell_type": "code",
   "metadata": {},
   "source": [
    "for record in record_list:\n",
    "    try:\n",
    "        es.index(index=ELASTIC_INDEX, document=record, id=record[\"id\"])\n",
    "    except Exception as e:\n",
    "        print(e)"
   ],
   "outputs": [],
   "execution_count": null
  },
  {
   "cell_type": "code",
   "metadata": {},
   "source": "es.count(index=ELASTIC_INDEX)",
   "outputs": [],
   "execution_count": null
  },
  {
   "cell_type": "markdown",
   "metadata": {},
   "source": [
    "## Search the data"
   ]
  },
  {
   "cell_type": "code",
   "metadata": {},
   "source": [
    "input_keyword = \"چاپگر\"\n",
    "vector_of_input_keyword = model.encode(input_keyword)\n",
    "\n",
    "query = {\n",
    "    \"field\" : \"titleVector\",\n",
    "    \"query_vector\" : vector_of_input_keyword,\n",
    "    \"k\" : 5,\n",
    "    \"num_candidates\" : SAMPLE_COUNT, \n",
    "}\n",
    "\n",
    "res = es.knn_search(index=ELASTIC_INDEX, knn=query, source=[\"id\", \"title_fa\", \"Category1\", \"Category2\"])\n",
    "res[\"hits\"][\"hits\"]"
   ],
   "outputs": [],
   "execution_count": null
  },
  {
   "metadata": {},
   "cell_type": "markdown",
   "source": "Now edit `searchApp.py` and run `streamlit run searchApp.py`"
  }
 ],
 "metadata": {
  "kernelspec": {
   "display_name": "venv",
   "language": "python",
   "name": "python3"
  },
  "language_info": {
   "codemirror_mode": {
    "name": "ipython",
    "version": 3
   },
   "file_extension": ".py",
   "mimetype": "text/x-python",
   "name": "python",
   "nbconvert_exporter": "python",
   "pygments_lexer": "ipython3",
   "version": "3.9.6"
  },
  "orig_nbformat": 4
 },
 "nbformat": 4,
 "nbformat_minor": 2
}
